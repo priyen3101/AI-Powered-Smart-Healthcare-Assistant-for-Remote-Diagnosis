{
 "cells": [
  {
   "cell_type": "markdown",
   "id": "076884a3-0a59-4209-aad2-8ad6b93f2ce5",
   "metadata": {
    "id": "076884a3-0a59-4209-aad2-8ad6b93f2ce5"
   },
   "source": [
    "## Import Dataset"
   ]
  },
  {
   "cell_type": "code",
   "execution_count": 39,
   "id": "379184a1-cb3e-45a1-977d-b424640ad442",
   "metadata": {
    "executionInfo": {
     "elapsed": 10,
     "status": "ok",
     "timestamp": 1727158285426,
     "user": {
      "displayName": "21DIT023 PRIYENBHAI ITALIYA",
      "userId": "12661479872595247542"
     },
     "user_tz": -330
    },
    "id": "379184a1-cb3e-45a1-977d-b424640ad442"
   },
   "outputs": [],
   "source": [
    "import json\n",
    "import pandas as pd"
   ]
  },
  {
   "cell_type": "code",
   "execution_count": 40,
   "id": "e6621761-7842-4920-bdcd-199373a5388e",
   "metadata": {
    "executionInfo": {
     "elapsed": 1,
     "status": "ok",
     "timestamp": 1727158285429,
     "user": {
      "displayName": "21DIT023 PRIYENBHAI ITALIYA",
      "userId": "12661479872595247542"
     },
     "user_tz": -330
    },
    "id": "e6621761-7842-4920-bdcd-199373a5388e"
   },
   "outputs": [],
   "source": [
    "df_label= pd.read_csv('/home/coeai/Downloads/piyo/symptom_dataset.csv')"
   ]
  },
  {
   "cell_type": "code",
   "execution_count": 41,
   "id": "54b81393-1024-40ef-a3c2-35e28e4a786e",
   "metadata": {
    "colab": {
     "base_uri": "https://localhost:8080/",
     "height": 424
    },
    "executionInfo": {
     "elapsed": 4,
     "status": "ok",
     "timestamp": 1727158285434,
     "user": {
      "displayName": "21DIT023 PRIYENBHAI ITALIYA",
      "userId": "12661479872595247542"
     },
     "user_tz": -330
    },
    "id": "54b81393-1024-40ef-a3c2-35e28e4a786e",
    "outputId": "063d4f0a-3517-48c1-e7c8-ef4e051662d0"
   },
   "outputs": [
    {
     "data": {
      "text/html": [
       "<div>\n",
       "<style scoped>\n",
       "    .dataframe tbody tr th:only-of-type {\n",
       "        vertical-align: middle;\n",
       "    }\n",
       "\n",
       "    .dataframe tbody tr th {\n",
       "        vertical-align: top;\n",
       "    }\n",
       "\n",
       "    .dataframe thead th {\n",
       "        text-align: right;\n",
       "    }\n",
       "</style>\n",
       "<table border=\"1\" class=\"dataframe\">\n",
       "  <thead>\n",
       "    <tr style=\"text-align: right;\">\n",
       "      <th></th>\n",
       "      <th>text</th>\n",
       "      <th>label</th>\n",
       "    </tr>\n",
       "  </thead>\n",
       "  <tbody>\n",
       "    <tr>\n",
       "      <th>0</th>\n",
       "      <td>I have been having migraines and headaches. I ...</td>\n",
       "      <td>Drug Reaction</td>\n",
       "    </tr>\n",
       "    <tr>\n",
       "      <th>1</th>\n",
       "      <td>I have asthma and I get wheezing and breathing...</td>\n",
       "      <td>Allergy</td>\n",
       "    </tr>\n",
       "    <tr>\n",
       "      <th>2</th>\n",
       "      <td>Signs and symptoms of primary ovarian insuffic...</td>\n",
       "      <td>Premature Ovarian Failure</td>\n",
       "    </tr>\n",
       "    <tr>\n",
       "      <th>3</th>\n",
       "      <td>cough,high_fever,breathlessness,family_history...</td>\n",
       "      <td>Bronchial Asthma</td>\n",
       "    </tr>\n",
       "    <tr>\n",
       "      <th>4</th>\n",
       "      <td>chills,vomiting,high_fever,sweating,headache,n...</td>\n",
       "      <td>Malaria</td>\n",
       "    </tr>\n",
       "    <tr>\n",
       "      <th>...</th>\n",
       "      <td>...</td>\n",
       "      <td>...</td>\n",
       "    </tr>\n",
       "    <tr>\n",
       "      <th>8238</th>\n",
       "      <td>I have rashes and skin irritations, especially...</td>\n",
       "      <td>diabetes</td>\n",
       "    </tr>\n",
       "    <tr>\n",
       "      <th>8239</th>\n",
       "      <td>Along with impaired eyesight, increased appeti...</td>\n",
       "      <td>Migraine</td>\n",
       "    </tr>\n",
       "    <tr>\n",
       "      <th>8240</th>\n",
       "      <td>Recently, I've been scratching myself a lot, a...</td>\n",
       "      <td>Fungal infection</td>\n",
       "    </tr>\n",
       "    <tr>\n",
       "      <th>8241</th>\n",
       "      <td>I'm running a high temperature. Near my nose, ...</td>\n",
       "      <td>Impetigo</td>\n",
       "    </tr>\n",
       "    <tr>\n",
       "      <th>8242</th>\n",
       "      <td>I am experiencing too many cramps in the last ...</td>\n",
       "      <td>Varicose Veins</td>\n",
       "    </tr>\n",
       "  </tbody>\n",
       "</table>\n",
       "<p>8243 rows × 2 columns</p>\n",
       "</div>"
      ],
      "text/plain": [
       "                                                   text  \\\n",
       "0     I have been having migraines and headaches. I ...   \n",
       "1     I have asthma and I get wheezing and breathing...   \n",
       "2     Signs and symptoms of primary ovarian insuffic...   \n",
       "3     cough,high_fever,breathlessness,family_history...   \n",
       "4     chills,vomiting,high_fever,sweating,headache,n...   \n",
       "...                                                 ...   \n",
       "8238  I have rashes and skin irritations, especially...   \n",
       "8239  Along with impaired eyesight, increased appeti...   \n",
       "8240  Recently, I've been scratching myself a lot, a...   \n",
       "8241  I'm running a high temperature. Near my nose, ...   \n",
       "8242  I am experiencing too many cramps in the last ...   \n",
       "\n",
       "                          label  \n",
       "0                 Drug Reaction  \n",
       "1                       Allergy  \n",
       "2     Premature Ovarian Failure  \n",
       "3              Bronchial Asthma  \n",
       "4                       Malaria  \n",
       "...                         ...  \n",
       "8238                   diabetes  \n",
       "8239                   Migraine  \n",
       "8240           Fungal infection  \n",
       "8241                   Impetigo  \n",
       "8242             Varicose Veins  \n",
       "\n",
       "[8243 rows x 2 columns]"
      ]
     },
     "execution_count": 41,
     "metadata": {},
     "output_type": "execute_result"
    }
   ],
   "source": [
    "df_label"
   ]
  },
  {
   "cell_type": "code",
   "execution_count": 42,
   "id": "98296a56-4262-467e-8cf8-1b87814ed971",
   "metadata": {
    "colab": {
     "base_uri": "https://localhost:8080/"
    },
    "executionInfo": {
     "elapsed": 7,
     "status": "ok",
     "timestamp": 1727158285442,
     "user": {
      "displayName": "21DIT023 PRIYENBHAI ITALIYA",
      "userId": "12661479872595247542"
     },
     "user_tz": -330
    },
    "id": "98296a56-4262-467e-8cf8-1b87814ed971",
    "outputId": "232ffdd5-6902-4a3a-91b0-0b7f4976bde8"
   },
   "outputs": [
    {
     "data": {
      "text/plain": [
       "1092"
      ]
     },
     "execution_count": 42,
     "metadata": {},
     "output_type": "execute_result"
    }
   ],
   "source": [
    "len(df_label['label'].unique())"
   ]
  },
  {
   "cell_type": "code",
   "execution_count": 43,
   "id": "ae3a0f29-2127-469e-b986-7ca8af8a9afc",
   "metadata": {
    "colab": {
     "base_uri": "https://localhost:8080/"
    },
    "executionInfo": {
     "elapsed": 5,
     "status": "ok",
     "timestamp": 1727158285448,
     "user": {
      "displayName": "21DIT023 PRIYENBHAI ITALIYA",
      "userId": "12661479872595247542"
     },
     "user_tz": -330
    },
    "id": "ae3a0f29-2127-469e-b986-7ca8af8a9afc",
    "outputId": "9ca5c362-8df0-4552-be7d-c3929c02e5ee"
   },
   "outputs": [
    {
     "data": {
      "text/plain": [
       "label\n",
       "Malaria                        221\n",
       "Psoriasis                      221\n",
       "Arthritis                      221\n",
       "Varicose Veins                 221\n",
       "Impetigo                       221\n",
       "                              ... \n",
       "Primary Progressive Aphasia      1\n",
       "Milk Allergy                     1\n",
       "Achalasia                        1\n",
       "Hemolytic Uremic Syndrome        1\n",
       "Acromegaly                       1\n",
       "Name: count, Length: 1092, dtype: int64"
      ]
     },
     "execution_count": 43,
     "metadata": {},
     "output_type": "execute_result"
    }
   ],
   "source": [
    "df_label['label'].value_counts()"
   ]
  },
  {
   "cell_type": "markdown",
   "id": "3062ee76-c5ab-4ada-9474-e060dbb8b138",
   "metadata": {
    "id": "3062ee76-c5ab-4ada-9474-e060dbb8b138"
   },
   "source": [
    "\n",
    "\n",
    "## Handle Imbalance Dataset"
   ]
  },
  {
   "cell_type": "code",
   "execution_count": 44,
   "id": "860dad62-c645-4158-b2ba-4b1d37c0ca5b",
   "metadata": {
    "executionInfo": {
     "elapsed": 2,
     "status": "ok",
     "timestamp": 1727158285451,
     "user": {
      "displayName": "21DIT023 PRIYENBHAI ITALIYA",
      "userId": "12661479872595247542"
     },
     "user_tz": -330
    },
    "id": "860dad62-c645-4158-b2ba-4b1d37c0ca5b"
   },
   "outputs": [],
   "source": [
    "x = df_label.iloc[:,:1]\n",
    "y = df_label.iloc[:,1:2]"
   ]
  },
  {
   "cell_type": "code",
   "execution_count": 45,
   "id": "50c7a778-59c6-43b9-8615-6a1e24063354",
   "metadata": {
    "colab": {
     "base_uri": "https://localhost:8080/",
     "height": 424
    },
    "executionInfo": {
     "elapsed": 4,
     "status": "ok",
     "timestamp": 1727158285456,
     "user": {
      "displayName": "21DIT023 PRIYENBHAI ITALIYA",
      "userId": "12661479872595247542"
     },
     "user_tz": -330
    },
    "id": "50c7a778-59c6-43b9-8615-6a1e24063354",
    "outputId": "0cbd9072-db18-4546-f02c-e0c89453c92d"
   },
   "outputs": [
    {
     "data": {
      "text/html": [
       "<div>\n",
       "<style scoped>\n",
       "    .dataframe tbody tr th:only-of-type {\n",
       "        vertical-align: middle;\n",
       "    }\n",
       "\n",
       "    .dataframe tbody tr th {\n",
       "        vertical-align: top;\n",
       "    }\n",
       "\n",
       "    .dataframe thead th {\n",
       "        text-align: right;\n",
       "    }\n",
       "</style>\n",
       "<table border=\"1\" class=\"dataframe\">\n",
       "  <thead>\n",
       "    <tr style=\"text-align: right;\">\n",
       "      <th></th>\n",
       "      <th>text</th>\n",
       "    </tr>\n",
       "  </thead>\n",
       "  <tbody>\n",
       "    <tr>\n",
       "      <th>0</th>\n",
       "      <td>I have been having migraines and headaches. I ...</td>\n",
       "    </tr>\n",
       "    <tr>\n",
       "      <th>1</th>\n",
       "      <td>I have asthma and I get wheezing and breathing...</td>\n",
       "    </tr>\n",
       "    <tr>\n",
       "      <th>2</th>\n",
       "      <td>Signs and symptoms of primary ovarian insuffic...</td>\n",
       "    </tr>\n",
       "    <tr>\n",
       "      <th>3</th>\n",
       "      <td>cough,high_fever,breathlessness,family_history...</td>\n",
       "    </tr>\n",
       "    <tr>\n",
       "      <th>4</th>\n",
       "      <td>chills,vomiting,high_fever,sweating,headache,n...</td>\n",
       "    </tr>\n",
       "    <tr>\n",
       "      <th>...</th>\n",
       "      <td>...</td>\n",
       "    </tr>\n",
       "    <tr>\n",
       "      <th>8238</th>\n",
       "      <td>I have rashes and skin irritations, especially...</td>\n",
       "    </tr>\n",
       "    <tr>\n",
       "      <th>8239</th>\n",
       "      <td>Along with impaired eyesight, increased appeti...</td>\n",
       "    </tr>\n",
       "    <tr>\n",
       "      <th>8240</th>\n",
       "      <td>Recently, I've been scratching myself a lot, a...</td>\n",
       "    </tr>\n",
       "    <tr>\n",
       "      <th>8241</th>\n",
       "      <td>I'm running a high temperature. Near my nose, ...</td>\n",
       "    </tr>\n",
       "    <tr>\n",
       "      <th>8242</th>\n",
       "      <td>I am experiencing too many cramps in the last ...</td>\n",
       "    </tr>\n",
       "  </tbody>\n",
       "</table>\n",
       "<p>8243 rows × 1 columns</p>\n",
       "</div>"
      ],
      "text/plain": [
       "                                                   text\n",
       "0     I have been having migraines and headaches. I ...\n",
       "1     I have asthma and I get wheezing and breathing...\n",
       "2     Signs and symptoms of primary ovarian insuffic...\n",
       "3     cough,high_fever,breathlessness,family_history...\n",
       "4     chills,vomiting,high_fever,sweating,headache,n...\n",
       "...                                                 ...\n",
       "8238  I have rashes and skin irritations, especially...\n",
       "8239  Along with impaired eyesight, increased appeti...\n",
       "8240  Recently, I've been scratching myself a lot, a...\n",
       "8241  I'm running a high temperature. Near my nose, ...\n",
       "8242  I am experiencing too many cramps in the last ...\n",
       "\n",
       "[8243 rows x 1 columns]"
      ]
     },
     "execution_count": 45,
     "metadata": {},
     "output_type": "execute_result"
    }
   ],
   "source": [
    "x.reset_index(drop=True)"
   ]
  },
  {
   "cell_type": "code",
   "execution_count": 46,
   "id": "d9430de4-6608-4222-a139-1c55162e9925",
   "metadata": {
    "colab": {
     "base_uri": "https://localhost:8080/",
     "height": 424
    },
    "executionInfo": {
     "elapsed": 3,
     "status": "ok",
     "timestamp": 1727158285460,
     "user": {
      "displayName": "21DIT023 PRIYENBHAI ITALIYA",
      "userId": "12661479872595247542"
     },
     "user_tz": -330
    },
    "id": "d9430de4-6608-4222-a139-1c55162e9925",
    "outputId": "8acf280e-778b-414f-a960-5eb54f01244b"
   },
   "outputs": [
    {
     "data": {
      "text/html": [
       "<div>\n",
       "<style scoped>\n",
       "    .dataframe tbody tr th:only-of-type {\n",
       "        vertical-align: middle;\n",
       "    }\n",
       "\n",
       "    .dataframe tbody tr th {\n",
       "        vertical-align: top;\n",
       "    }\n",
       "\n",
       "    .dataframe thead th {\n",
       "        text-align: right;\n",
       "    }\n",
       "</style>\n",
       "<table border=\"1\" class=\"dataframe\">\n",
       "  <thead>\n",
       "    <tr style=\"text-align: right;\">\n",
       "      <th></th>\n",
       "      <th>label</th>\n",
       "    </tr>\n",
       "  </thead>\n",
       "  <tbody>\n",
       "    <tr>\n",
       "      <th>0</th>\n",
       "      <td>Drug Reaction</td>\n",
       "    </tr>\n",
       "    <tr>\n",
       "      <th>1</th>\n",
       "      <td>Allergy</td>\n",
       "    </tr>\n",
       "    <tr>\n",
       "      <th>2</th>\n",
       "      <td>Premature Ovarian Failure</td>\n",
       "    </tr>\n",
       "    <tr>\n",
       "      <th>3</th>\n",
       "      <td>Bronchial Asthma</td>\n",
       "    </tr>\n",
       "    <tr>\n",
       "      <th>4</th>\n",
       "      <td>Malaria</td>\n",
       "    </tr>\n",
       "    <tr>\n",
       "      <th>...</th>\n",
       "      <td>...</td>\n",
       "    </tr>\n",
       "    <tr>\n",
       "      <th>8238</th>\n",
       "      <td>diabetes</td>\n",
       "    </tr>\n",
       "    <tr>\n",
       "      <th>8239</th>\n",
       "      <td>Migraine</td>\n",
       "    </tr>\n",
       "    <tr>\n",
       "      <th>8240</th>\n",
       "      <td>Fungal infection</td>\n",
       "    </tr>\n",
       "    <tr>\n",
       "      <th>8241</th>\n",
       "      <td>Impetigo</td>\n",
       "    </tr>\n",
       "    <tr>\n",
       "      <th>8242</th>\n",
       "      <td>Varicose Veins</td>\n",
       "    </tr>\n",
       "  </tbody>\n",
       "</table>\n",
       "<p>8243 rows × 1 columns</p>\n",
       "</div>"
      ],
      "text/plain": [
       "                          label\n",
       "0                 Drug Reaction\n",
       "1                       Allergy\n",
       "2     Premature Ovarian Failure\n",
       "3              Bronchial Asthma\n",
       "4                       Malaria\n",
       "...                         ...\n",
       "8238                   diabetes\n",
       "8239                   Migraine\n",
       "8240           Fungal infection\n",
       "8241                   Impetigo\n",
       "8242             Varicose Veins\n",
       "\n",
       "[8243 rows x 1 columns]"
      ]
     },
     "execution_count": 46,
     "metadata": {},
     "output_type": "execute_result"
    }
   ],
   "source": [
    "y.reset_index(drop=True)"
   ]
  },
  {
   "cell_type": "code",
   "execution_count": 47,
   "id": "77c0a151-0dc4-444b-9899-335cd7b56f44",
   "metadata": {
    "colab": {
     "base_uri": "https://localhost:8080/"
    },
    "executionInfo": {
     "elapsed": 8,
     "status": "ok",
     "timestamp": 1727158285469,
     "user": {
      "displayName": "21DIT023 PRIYENBHAI ITALIYA",
      "userId": "12661479872595247542"
     },
     "user_tz": -330
    },
    "id": "77c0a151-0dc4-444b-9899-335cd7b56f44",
    "outputId": "7d3dbd0f-a83d-4681-eb2c-f9c14ecfe4b1"
   },
   "outputs": [
    {
     "name": "stdout",
     "output_type": "stream",
     "text": [
      "(8243, 1)\n",
      "(8243, 1)\n"
     ]
    }
   ],
   "source": [
    "print(x.shape)\n",
    "print(y.shape)"
   ]
  },
  {
   "cell_type": "code",
   "execution_count": 48,
   "id": "5ece899d-15e6-4975-83d6-39fdce84cbef",
   "metadata": {
    "colab": {
     "base_uri": "https://localhost:8080/"
    },
    "executionInfo": {
     "elapsed": 6,
     "status": "ok",
     "timestamp": 1727158285477,
     "user": {
      "displayName": "21DIT023 PRIYENBHAI ITALIYA",
      "userId": "12661479872595247542"
     },
     "user_tz": -330
    },
    "id": "5ece899d-15e6-4975-83d6-39fdce84cbef",
    "outputId": "18080e56-354c-494e-97fa-9abf9edde6e0"
   },
   "outputs": [
    {
     "data": {
      "text/plain": [
       "False"
      ]
     },
     "execution_count": 48,
     "metadata": {},
     "output_type": "execute_result"
    }
   ],
   "source": [
    "df_label.isnull().values.any()"
   ]
  },
  {
   "cell_type": "markdown",
   "id": "cd3dd5c3-4bd6-4c31-a3c3-6ed0d57d2939",
   "metadata": {
    "id": "cd3dd5c3-4bd6-4c31-a3c3-6ed0d57d2939"
   },
   "source": [
    "#### Over Sampling"
   ]
  },
  {
   "cell_type": "code",
   "execution_count": 49,
   "id": "8d681619-1172-4f07-a10f-f7fd852a9a6a",
   "metadata": {
    "executionInfo": {
     "elapsed": 35,
     "status": "ok",
     "timestamp": 1727158285513,
     "user": {
      "displayName": "21DIT023 PRIYENBHAI ITALIYA",
      "userId": "12661479872595247542"
     },
     "user_tz": -330
    },
    "id": "8d681619-1172-4f07-a10f-f7fd852a9a6a"
   },
   "outputs": [],
   "source": [
    "from imblearn.over_sampling import RandomOverSampler"
   ]
  },
  {
   "cell_type": "code",
   "execution_count": 50,
   "id": "d1177e3c-3647-40e6-97dd-f701db7d076c",
   "metadata": {
    "executionInfo": {
     "elapsed": 5,
     "status": "ok",
     "timestamp": 1727158285520,
     "user": {
      "displayName": "21DIT023 PRIYENBHAI ITALIYA",
      "userId": "12661479872595247542"
     },
     "user_tz": -330
    },
    "id": "d1177e3c-3647-40e6-97dd-f701db7d076c"
   },
   "outputs": [],
   "source": [
    "from collections import Counter\n",
    "class_counts = Counter(y['label'])\n",
    "sampling_strategy = {cls: (30*count if count <2 else count) for cls, count in class_counts.items()}"
   ]
  },
  {
   "cell_type": "code",
   "execution_count": 51,
   "id": "722f491f-50e1-4bdc-b7d3-0a808120b7fa",
   "metadata": {
    "executionInfo": {
     "elapsed": 3,
     "status": "ok",
     "timestamp": 1727158285526,
     "user": {
      "displayName": "21DIT023 PRIYENBHAI ITALIYA",
      "userId": "12661479872595247542"
     },
     "user_tz": -330
    },
    "id": "722f491f-50e1-4bdc-b7d3-0a808120b7fa"
   },
   "outputs": [],
   "source": [
    "os = RandomOverSampler(sampling_strategy=sampling_strategy)"
   ]
  },
  {
   "cell_type": "code",
   "execution_count": 52,
   "id": "dce3dca7-6e96-434c-8a50-de96e8b805f7",
   "metadata": {
    "executionInfo": {
     "elapsed": 800,
     "status": "ok",
     "timestamp": 1727158286327,
     "user": {
      "displayName": "21DIT023 PRIYENBHAI ITALIYA",
      "userId": "12661479872595247542"
     },
     "user_tz": -330
    },
    "id": "dce3dca7-6e96-434c-8a50-de96e8b805f7"
   },
   "outputs": [],
   "source": [
    "x_res2,y_res2=os.fit_resample(x,y)"
   ]
  },
  {
   "cell_type": "code",
   "execution_count": 53,
   "id": "11afe983-2817-452f-919b-32dabece88a7",
   "metadata": {
    "colab": {
     "base_uri": "https://localhost:8080/"
    },
    "executionInfo": {
     "elapsed": 5,
     "status": "ok",
     "timestamp": 1727158286334,
     "user": {
      "displayName": "21DIT023 PRIYENBHAI ITALIYA",
      "userId": "12661479872595247542"
     },
     "user_tz": -330
    },
    "id": "11afe983-2817-452f-919b-32dabece88a7",
    "outputId": "2d4ab38a-9ec7-4a22-89e9-e069c87975a3"
   },
   "outputs": [
    {
     "data": {
      "text/plain": [
       "((38316, 1), (38316, 1))"
      ]
     },
     "execution_count": 53,
     "metadata": {},
     "output_type": "execute_result"
    }
   ],
   "source": [
    "x_res2.shape,y_res2.shape"
   ]
  },
  {
   "cell_type": "code",
   "execution_count": 54,
   "id": "64a60bde-6cfd-4563-9914-dec99a4ae0e8",
   "metadata": {
    "executionInfo": {
     "elapsed": 1,
     "status": "ok",
     "timestamp": 1727158286336,
     "user": {
      "displayName": "21DIT023 PRIYENBHAI ITALIYA",
      "userId": "12661479872595247542"
     },
     "user_tz": -330
    },
    "id": "64a60bde-6cfd-4563-9914-dec99a4ae0e8"
   },
   "outputs": [],
   "source": [
    "df_balanced=pd.concat([x_res2,y_res2],axis=1)"
   ]
  },
  {
   "cell_type": "code",
   "execution_count": 55,
   "id": "2888e539-50ef-4f82-ad10-dcb5b3788a19",
   "metadata": {
    "colab": {
     "base_uri": "https://localhost:8080/",
     "height": 424
    },
    "executionInfo": {
     "elapsed": 3,
     "status": "ok",
     "timestamp": 1727158286339,
     "user": {
      "displayName": "21DIT023 PRIYENBHAI ITALIYA",
      "userId": "12661479872595247542"
     },
     "user_tz": -330
    },
    "id": "2888e539-50ef-4f82-ad10-dcb5b3788a19",
    "outputId": "2d80d022-4a77-4a30-f5bd-878f6183e433"
   },
   "outputs": [
    {
     "data": {
      "text/html": [
       "<div>\n",
       "<style scoped>\n",
       "    .dataframe tbody tr th:only-of-type {\n",
       "        vertical-align: middle;\n",
       "    }\n",
       "\n",
       "    .dataframe tbody tr th {\n",
       "        vertical-align: top;\n",
       "    }\n",
       "\n",
       "    .dataframe thead th {\n",
       "        text-align: right;\n",
       "    }\n",
       "</style>\n",
       "<table border=\"1\" class=\"dataframe\">\n",
       "  <thead>\n",
       "    <tr style=\"text-align: right;\">\n",
       "      <th></th>\n",
       "      <th>text</th>\n",
       "      <th>label</th>\n",
       "    </tr>\n",
       "  </thead>\n",
       "  <tbody>\n",
       "    <tr>\n",
       "      <th>0</th>\n",
       "      <td>I have been having migraines and headaches. I ...</td>\n",
       "      <td>Drug Reaction</td>\n",
       "    </tr>\n",
       "    <tr>\n",
       "      <th>1</th>\n",
       "      <td>I have asthma and I get wheezing and breathing...</td>\n",
       "      <td>Allergy</td>\n",
       "    </tr>\n",
       "    <tr>\n",
       "      <th>2</th>\n",
       "      <td>Signs and symptoms of primary ovarian insuffic...</td>\n",
       "      <td>Premature Ovarian Failure</td>\n",
       "    </tr>\n",
       "    <tr>\n",
       "      <th>3</th>\n",
       "      <td>cough,high_fever,breathlessness,family_history...</td>\n",
       "      <td>Bronchial Asthma</td>\n",
       "    </tr>\n",
       "    <tr>\n",
       "      <th>4</th>\n",
       "      <td>chills,vomiting,high_fever,sweating,headache,n...</td>\n",
       "      <td>Malaria</td>\n",
       "    </tr>\n",
       "    <tr>\n",
       "      <th>...</th>\n",
       "      <td>...</td>\n",
       "      <td>...</td>\n",
       "    </tr>\n",
       "    <tr>\n",
       "      <th>38311</th>\n",
       "      <td>Symptoms of Zollinger-Ellison syndrome may inc...</td>\n",
       "      <td>Zollinger Ellison Syndrome</td>\n",
       "    </tr>\n",
       "    <tr>\n",
       "      <th>38312</th>\n",
       "      <td>Symptoms of Zollinger-Ellison syndrome may inc...</td>\n",
       "      <td>Zollinger Ellison Syndrome</td>\n",
       "    </tr>\n",
       "    <tr>\n",
       "      <th>38313</th>\n",
       "      <td>Symptoms of Zollinger-Ellison syndrome may inc...</td>\n",
       "      <td>Zollinger Ellison Syndrome</td>\n",
       "    </tr>\n",
       "    <tr>\n",
       "      <th>38314</th>\n",
       "      <td>Symptoms of Zollinger-Ellison syndrome may inc...</td>\n",
       "      <td>Zollinger Ellison Syndrome</td>\n",
       "    </tr>\n",
       "    <tr>\n",
       "      <th>38315</th>\n",
       "      <td>Symptoms of Zollinger-Ellison syndrome may inc...</td>\n",
       "      <td>Zollinger Ellison Syndrome</td>\n",
       "    </tr>\n",
       "  </tbody>\n",
       "</table>\n",
       "<p>38316 rows × 2 columns</p>\n",
       "</div>"
      ],
      "text/plain": [
       "                                                    text  \\\n",
       "0      I have been having migraines and headaches. I ...   \n",
       "1      I have asthma and I get wheezing and breathing...   \n",
       "2      Signs and symptoms of primary ovarian insuffic...   \n",
       "3      cough,high_fever,breathlessness,family_history...   \n",
       "4      chills,vomiting,high_fever,sweating,headache,n...   \n",
       "...                                                  ...   \n",
       "38311  Symptoms of Zollinger-Ellison syndrome may inc...   \n",
       "38312  Symptoms of Zollinger-Ellison syndrome may inc...   \n",
       "38313  Symptoms of Zollinger-Ellison syndrome may inc...   \n",
       "38314  Symptoms of Zollinger-Ellison syndrome may inc...   \n",
       "38315  Symptoms of Zollinger-Ellison syndrome may inc...   \n",
       "\n",
       "                            label  \n",
       "0                   Drug Reaction  \n",
       "1                         Allergy  \n",
       "2       Premature Ovarian Failure  \n",
       "3                Bronchial Asthma  \n",
       "4                         Malaria  \n",
       "...                           ...  \n",
       "38311  Zollinger Ellison Syndrome  \n",
       "38312  Zollinger Ellison Syndrome  \n",
       "38313  Zollinger Ellison Syndrome  \n",
       "38314  Zollinger Ellison Syndrome  \n",
       "38315  Zollinger Ellison Syndrome  \n",
       "\n",
       "[38316 rows x 2 columns]"
      ]
     },
     "execution_count": 55,
     "metadata": {},
     "output_type": "execute_result"
    }
   ],
   "source": [
    "df_balanced"
   ]
  },
  {
   "cell_type": "code",
   "execution_count": 56,
   "id": "574a52eb-28d8-4e3c-994b-137c675fbdef",
   "metadata": {
    "executionInfo": {
     "elapsed": 1,
     "status": "ok",
     "timestamp": 1727158286341,
     "user": {
      "displayName": "21DIT023 PRIYENBHAI ITALIYA",
      "userId": "12661479872595247542"
     },
     "user_tz": -330
    },
    "id": "574a52eb-28d8-4e3c-994b-137c675fbdef"
   },
   "outputs": [],
   "source": [
    "from sklearn.preprocessing import LabelEncoder"
   ]
  },
  {
   "cell_type": "code",
   "execution_count": 57,
   "id": "bd1b974a-72fd-4ccf-a113-da0b5d2ccab5",
   "metadata": {
    "colab": {
     "base_uri": "https://localhost:8080/"
    },
    "executionInfo": {
     "elapsed": 14,
     "status": "ok",
     "timestamp": 1727158286373,
     "user": {
      "displayName": "21DIT023 PRIYENBHAI ITALIYA",
      "userId": "12661479872595247542"
     },
     "user_tz": -330
    },
    "id": "bd1b974a-72fd-4ccf-a113-da0b5d2ccab5",
    "outputId": "18d02ab4-a4a0-44df-84ec-e9e757058584",
    "scrolled": true
   },
   "outputs": [
    {
     "name": "stdout",
     "output_type": "stream",
     "text": [
      "{'(Vertigo) Paroymsal  Positional Vertigo': 0, 'Abdominal Aortic Aneurysm': 1, 'Acanthosis Nigricans': 2, 'Achalasia': 3, 'Achilles Tendinitis': 4, 'Achilles Tendon Rupture': 5, 'Acl Injury': 6, 'Acne': 7, 'Acoustic Neuroma': 8, 'Acromegaly': 9, 'Actinic Keratosis': 10, 'Acute Coronary Syndrome': 11, 'Acute Flaccid Myelitis': 12, 'Acute Liver Failure': 13, 'Acute Lymphocytic Leukemia': 14, 'Acute Myelogenous Leukemia': 15, 'Acute Sinusitis': 16, 'Addisons Disease': 17, 'Adenomyosis': 18, 'Adhd': 19, 'Adjustment Disorders': 20, 'Adrenal Cancer': 21, 'Adult Adhd': 22, 'Adult Congenital Heart Disease': 23, 'Adult Stills Disease': 24, 'Age Spots': 25, 'Agoraphobia': 26, 'Aids': 27, 'Airplane Ear': 28, 'Albinism': 29, 'Alcohol Intolerance': 30, 'Alcohol Poisoning': 31, 'Alcohol Use Disorder': 32, 'Alcoholic Hepatitis': 33, 'Allergies': 34, 'Allergy': 35, 'Alpha Gal Syndrome': 36, 'Alzheimers Disease': 37, 'Ambiguous Genitalia': 38, 'Ameloblastoma': 39, 'Amenorrhea': 40, 'Amnesia': 41, 'Ampullary Cancer': 42, 'Amyloidosis': 43, 'Amyotrophic Lateral Sclerosis': 44, 'Anal Cancer': 45, 'Anal Fissure': 46, 'Anal Fistula': 47, 'Anal Itching': 48, 'Anaphylaxis': 49, 'Anemia': 50, 'Angelman Syndrome': 51, 'Angina': 52, 'Angiosarcoma': 53, 'Ankylosing Spondylitis': 54, 'Anorexia Nervosa': 55, 'Anorgasmia': 56, 'Anthrax': 57, 'Antibiotic Associated Diarrhea': 58, 'Antiphospholipid Syndrome': 59, 'Antisocial Personality Disorder': 60, 'Anxiety': 61, 'Aortic Dissection': 62, 'Aortic Stenosis': 63, 'Aortic Valve Disease': 64, 'Aortic Valve Regurgitation': 65, 'Aphasia': 66, 'Aplastic Anemia': 67, 'Appendicitis': 68, 'Arteriosclerosis Atherosclerosis': 69, 'Arteriovenous Fistula': 70, 'Arteriovenous Malformation': 71, 'Arthritis': 72, 'Asbestosis': 73, 'Ascariasis': 74, 'Aspergillosis': 75, 'Asthma': 76, 'Asthma Attack': 77, 'Astigmatism': 78, 'Ataxia': 79, 'Atelectasis': 80, 'Athletes Foot': 81, 'Atopic Dermatitis Eczema': 82, 'Atrial Fibrillation': 83, 'Atrial Septal Defect': 84, 'Atrioventricular Canal Defect': 85, 'Atypical Hyperplasia': 86, 'Autism Spectrum Disorder': 87, 'Autoimmune Hepatitis': 88, 'Autoimmune Pancreatitis': 89, 'Autonomic Neuropathy': 90, 'Avascular Necrosis': 91, 'Baby Acne': 92, 'Back Pain': 93, 'Bacterial Vaginosis': 94, 'Bad Breath': 95, 'Bags Under Eyes': 96, 'Bakers Cyst': 97, 'Balance Problems': 98, 'Barretts Esophagus': 99, 'Bartholin Cyst': 100, 'Basal Cell Carcinoma': 101, 'Bed Sores': 102, 'Bed Wetting': 103, 'Bedbugs': 104, 'Bee Stings': 105, 'Behcets Disease': 106, 'Bells Palsy': 107, 'Benign Prostatic Hyperplasia': 108, 'Bile Reflux': 109, 'Binge Eating Disorder': 110, 'Bipolar Disorder': 111, 'Black Hairy Tongue': 112, 'Bladder Cancer': 113, 'Bladder Exstrophy': 114, 'Bladder Stones': 115, 'Blastocystis Hominis Infection': 116, 'Blepharitis': 117, 'Blocked Tear Duct': 118, 'Blood In Urine': 119, 'Body Dysmorphic Disorder': 120, 'Body Lice': 121, 'Boils And Carbuncles': 122, 'Bone And Joint Infections': 123, 'Bone Cancer': 124, 'Bone Metastasis': 125, 'Bone Spurs': 126, 'Borderline Personality Disorder': 127, 'Botulism': 128, 'Brachial Plexus Injury': 129, 'Bradycardia': 130, 'Brain Aneurysm': 131, 'Brain Avm': 132, 'Brain Metastases': 133, 'Brain Tumor': 134, 'Breast Cancer': 135, 'Breast Cysts': 136, 'Breast Pain': 137, 'Broken Ankle': 138, 'Broken Arm': 139, 'Broken Collarbone': 140, 'Broken Foot': 141, 'Broken Hand': 142, 'Broken Heart Syndrome': 143, 'Broken Leg': 144, 'Broken Nose': 145, 'Broken Ribs': 146, 'Broken Toe': 147, 'Broken Wrist': 148, 'Bronchial Asthma': 149, 'Bronchiolitis': 150, 'Bronchitis': 151, 'Brucellosis': 152, 'Brugada Syndrome': 153, 'Bruxism': 154, 'Buergers Disease': 155, 'Bulimia': 156, 'Bullous Pemphigoid': 157, 'Bundle Branch Block': 158, 'Bunions': 159, 'Burning Mouth Syndrome': 160, 'Burns': 161, 'Bursitis': 162, 'C Difficile': 163, 'Calciphylaxis': 164, 'Cancer': 165, 'Canker Sore': 166, 'Carbon Monoxide': 167, 'Carcinoid Syndrome': 168, 'Carcinoid Tumors': 169, 'Carcinoma Unknown Primary': 170, 'Cardiogenic Shock': 171, 'Cardiomyopathy': 172, 'Carotid Artery Disease': 173, 'Carpal Tunnel Syndrome': 174, 'Castleman Disease': 175, 'Cataracts': 176, 'Cavernous Malformations': 177, 'Cavities': 178, 'Celiac Disease': 179, 'Cellulite': 180, 'Cellulitis': 181, 'Central Sleep Apnea': 182, 'Cerebral Palsy': 183, 'Cervical Cancer': 184, 'Cervical Dystonia': 185, 'Cervical Spondylosis': 186, 'Cervical spondylosis': 187, 'Cervicitis': 188, 'Chagas Disease': 189, 'Charcot Marie Tooth Disease': 190, 'Chemo Brain': 191, 'Chest Pain': 192, 'Chiari Malformation': 193, 'Chicken Pox': 194, 'Chicken pox': 195, 'Chickenpox': 196, 'Chilblains': 197, 'Child Abuse': 198, 'Childhood Apraxia Of Speech': 199, 'Childhood Asthma': 200, 'Childhood Obesity': 201, 'Childhood Schizophrenia': 202, 'Chlamydia': 203, 'Cholangiocarcinoma': 204, 'Cholecystitis': 205, 'Cholera': 206, 'Cholestasis Of Pregnancy': 207, 'Chondrosarcoma': 208, 'Chronic Cholestasis': 209, 'Chronic Cough': 210, 'Chronic Daily Headaches': 211, 'Chronic Exertional Compartment Syndrome': 212, 'Chronic Fatigue Syndrome': 213, 'Chronic Granulomatous Disease': 214, 'Chronic Hives': 215, 'Chronic Kidney Disease': 216, 'Chronic Lymphocytic Leukemia': 217, 'Chronic Myelogenous Leukemia': 218, 'Chronic Pelvic Pain': 219, 'Chronic Sinusitis': 220, 'Chronic Traumatic Encephalopathy': 221, 'Churg Strauss Syndrome': 222, 'Cirrhosis': 223, 'Claudication': 224, 'Cleft Palate': 225, 'Clubfoot': 226, 'Cluster Headache': 227, 'Cmv': 228, 'Coarctation Of The Aorta': 229, 'Cold Sore': 230, 'Cold Urticaria': 231, 'Colic': 232, 'Colon Cancer': 233, 'Colon Polyps': 234, 'Coma': 235, 'Common Cold': 236, 'Common Cold In Babies': 237, 'Common Variable Immunodeficiency': 238, 'Common Warts': 239, 'Complicated Grief': 240, 'Concussion': 241, 'Congenital Adrenal Hyperplasia': 242, 'Congenital Diaphragmatic Hernia': 243, 'Congenital Heart Defects Children': 244, 'Conjoined Twins': 245, 'Constipation': 246, 'Constipation In Children': 247, 'Contact Dermatitis': 248, 'Conversion Disorder': 249, 'Copd': 250, 'Coronary Artery Disease': 251, 'Corticobasal Degeneration': 252, 'Costochondritis': 253, 'Cradle Cap': 254, 'Craniosynostosis': 255, 'Creutzfeldt Jakob Disease': 256, 'Crohns Disease': 257, 'Croup': 258, 'Crps Complex Regional Pain Syndrome': 259, 'Cryoglobulinemia': 260, 'Csf Leak': 261, 'Cushing Syndrome': 262, 'Cutaneous T Cell Lymphoma': 263, 'Cyclic Vomiting Syndrome': 264, 'Cyclothymia': 265, 'Cystic Fibrosis': 266, 'Cystitis': 267, 'Cystocele': 268, 'Dandruff': 269, 'Dcis': 270, 'De Quervain Tenosynovitis': 271, 'Deep Vein Thrombosis': 272, 'Dehydration': 273, 'Delayed Ejaculation': 274, 'Delirium': 275, 'Dementia': 276, 'Dengue': 277, 'Dengue Fever': 278, 'Depersonalization Derealization Disorder': 279, 'Depression': 280, 'Dermatitis Eczema': 281, 'Dermatographia': 282, 'Dermatomyositis': 283, 'Desmoid Tumors': 284, 'Deviated Septum': 285, 'Diabetes': 286, 'Diabetes ': 287, 'Diabetes Insipidus': 288, 'Diabetic Coma': 289, 'Diabetic Hypoglycemia': 290, 'Diabetic Ketoacidosis': 291, 'Diabetic Nephropathy': 292, 'Diabetic Neuropathy': 293, 'Diabetic Retinopathy': 294, 'Diaper Rash': 295, 'Diarrhea': 296, 'Digeorge Syndrome': 297, 'Dilated Cardiomyopathy': 298, 'Dimorphic Hemmorhoids(Piles)': 299, 'Dimorphic Hemorrhoids': 300, 'Diphtheria': 301, 'Dislocated Shoulder': 302, 'Dissociative Disorders': 303, 'Diverticulitis': 304, 'Dizziness': 305, 'Double Uterus': 306, 'Down Syndrome': 307, 'Dresslers Syndrome': 308, 'Drug Addiction': 309, 'Drug Allergy': 310, 'Drug Reaction': 311, 'Dry Eyes': 312, 'Dry Macular Degeneration': 313, 'Dry Mouth': 314, 'Dry Skin': 315, 'Dry Socket': 316, 'Dsrct': 317, 'Dumping Syndrome': 318, 'Dupuytrens Contracture': 319, 'Dural Arteriovenous Fistulas': 320, 'Dust Mites': 321, 'Dwarfism': 322, 'Dysarthria': 323, 'Dyshidrosis': 324, 'Dyslexia': 325, 'Dysphagia': 326, 'Dystonia': 327, 'E Coli': 328, 'Ear Infections': 329, 'Eating Disorders': 330, 'Ebsteins Anomaly': 331, 'Ectopic Pregnancy': 332, 'Ectropion': 333, 'Edema': 334, 'Egg Allergy': 335, 'Ehlers Danlos Syndrome': 336, 'Ehrlichiosis': 337, 'Eisenmenger Syndrome': 338, 'Emphysema': 339, 'Encephalitis': 340, 'Encopresis': 341, 'End Stage Renal Disease': 342, 'Endocarditis': 343, 'Endometriosis': 344, 'Enlarged Liver': 345, 'Enlarged Spleen': 346, 'Enterocele': 347, 'Entropion': 348, 'Eosinophilic Esophagitis': 349, 'Epidermoid Cysts': 350, 'Epidermolysis Bullosa': 351, 'Epididymitis': 352, 'Epilepsy': 353, 'Erectile Dysfunction': 354, 'Esophageal Cancer': 355, 'Esophageal Spasms': 356, 'Esophageal Varices': 357, 'Esophagitis': 358, 'Essential Tremor': 359, 'Esthesioneuroblastoma': 360, 'Ewing Sarcoma': 361, 'Exercise Headaches': 362, 'Exercise Induced Asthma': 363, 'Eye Floaters': 364, 'Eye Melanoma': 365, 'Eyestrain': 366, 'Factitious Disorder': 367, 'Factor V Leiden': 368, 'Familial Adenomatous Polyposis': 369, 'Familial Hypercholesterolemia': 370, 'Familial Mediterranean Fever': 371, 'Farsightedness': 372, 'Febrile Seizure': 373, 'Fecal Incontinence': 374, 'Female Infertility': 375, 'Female Sexual Dysfunction': 376, 'Fetal Alcohol Syndrome': 377, 'Fetal Macrosomia': 378, 'Fever': 379, 'Fibroadenoma': 380, 'Fibrocystic Breasts': 381, 'Fibromuscular Dysplasia': 382, 'Fibromyalgia': 383, 'Flatfeet': 384, 'Floor Mouth Cancer': 385, 'Flu': 386, 'Folliculitis': 387, 'Food Allergy': 388, 'Food Poisoning': 389, 'Foot Drop': 390, 'Frontal Lobe Seizures': 391, 'Frontotemporal Dementia': 392, 'Frostbite': 393, 'Frozen Shoulder': 394, 'Fuchs Dystrophy': 395, 'Functional Dyspepsia': 396, 'Fungal Infection': 397, 'Fungal infection': 398, 'Galactorrhea': 399, 'Gallbladder Cancer': 400, 'Gallstones': 401, 'Ganglion Cyst': 402, 'Gangrene': 403, 'Gas And Gas Pains': 404, 'Gastritis': 405, 'Gastroenteritis': 406, 'Gastroesophageal Reflux Disease': 407, 'Gastrointestinal Bleeding': 408, 'Gastroparesis': 409, 'Gauchers Disease': 410, 'Gender Dysphoria': 411, 'Generalized Anxiety Disorder': 412, 'Genital Herpes': 413, 'Genital Warts': 414, 'Geographic Tongue': 415, 'Gerd': 416, 'Gestational Diabetes': 417, 'Giant Cell Arteritis': 418, 'Giardia Infection': 419, 'Gilberts Syndrome': 420, 'Gingivitis': 421, 'Glaucoma': 422, 'Glioma': 423, 'Glomerulonephritis': 424, 'Goiter': 425, 'Golfers Elbow': 426, 'Gonorrhea': 427, 'Gout': 428, 'Grand Mal Seizure': 429, 'Granuloma Annulare': 430, 'Granulomatosis With Polyangiitis': 431, 'Graves Disease': 432, 'Greenstick Fractures': 433, 'Group B Strep': 434, 'Growth Plate Fractures': 435, 'Guillain Barre Syndrome': 436, 'Gynecomastia': 437, 'H Pylori': 438, 'Hair Loss': 439, 'Hairy Cell Leukemia': 440, 'Hammertoe And Mallet Toe': 441, 'Hamstring Injury': 442, 'Hand Foot And Mouth Disease': 443, 'Hangovers': 444, 'Hantavirus Pulmonary Syndrome': 445, 'Hay Fever': 446, 'Head Lice': 447, 'Headaches In Children': 448, 'Hearing Loss': 449, 'Heart Arrhythmia': 450, 'Heart Attack': 451, 'Heart Disease': 452, 'Heart Failure': 453, 'Heart Murmurs': 454, 'Heart Palpitations': 455, 'Heart Valve Disease': 456, 'Heartburn': 457, 'Heat Exhaustion': 458, 'Heat Rash': 459, 'Heat Stroke': 460, 'Hemangioma': 461, 'Hemifacial Spasm': 462, 'Hemochromatosis': 463, 'Hemolytic Uremic Syndrome': 464, 'Hemophilia': 465, 'Hemorrhoids': 466, 'Henoch Schonlein Purpura': 467, 'Hepatitis A': 468, 'Hepatitis B': 469, 'Hepatitis C': 470, 'Hepatitis D': 471, 'Hepatitis E': 472, 'Hepatopulmonary Syndrome': 473, 'Herniated Disk': 474, 'Hht': 475, 'Hiatal Hernia': 476, 'Hiccups': 477, 'Hidradenitis Suppurativa': 478, 'High Blood Cholesterol': 479, 'High Blood Pressure': 480, 'High Blood Pressure In Children': 481, 'Hip Dysplasia': 482, 'Hip Fracture': 483, 'Hip Labral Tear': 484, 'Hirschsprungs Disease': 485, 'Histoplasmosis': 486, 'Hiv Aids': 487, 'Hives And Angioedema': 488, 'Hoarding Disorder': 489, 'Hodgkins Lymphoma': 490, 'Horner Syndrome': 491, 'Hot Flashes': 492, 'Hpv Infection': 493, 'Huntingtons Disease': 494, 'Hurthle Cell Cancer': 495, 'Hydrocele': 496, 'Hydrocephalus': 497, 'Hypercalcemia': 498, 'Hypereosinophilic Syndrome': 499, 'Hyperglycemia': 500, 'Hyperhidrosis': 501, 'Hyperoxaluria': 502, 'Hyperparathyroidism': 503, 'Hypertension': 504, 'Hypertension ': 505, 'Hyperthyroidism': 506, 'Hypertrophic Cardiomyopathy': 507, 'Hypoglycemia': 508, 'Hyponatremia': 509, 'Hypoparathyroidism': 510, 'Hypopituitarism': 511, 'Hypoplastic Left Heart Syndrome': 512, 'Hypospadias': 513, 'Hypothermia': 514, 'Hypothyroidism': 515, 'Idiopathic Thrombocytopenic Purpura': 516, 'Iga Nephropathy': 517, 'Illness Anxiety Disorder': 518, 'Impetigo': 519, 'Incompetent Cervix': 520, 'Indigestion': 521, 'Infant Acid Reflux': 522, 'Infant Jaundice': 523, 'Infectious Diseases': 524, 'Infertility': 525, 'Inflammatory Bowel Disease': 526, 'Inflammatory Breast Cancer': 527, 'Ingrown Hair': 528, 'Ingrown Toenails': 529, 'Inguinal Hernia': 530, 'Insomnia': 531, 'Intermittent Explosive Disorder': 532, 'Interstitial Cystitis': 533, 'Interstitial Lung Disease': 534, 'Intestinal Ischemia': 535, 'Intestinal Obstruction': 536, 'Intracranial Hematoma': 537, 'Intussusception': 538, 'Invasive Lobular Carcinoma': 539, 'Iritis': 540, 'Iron Deficiency Anemia': 541, 'Irritable Bowel Syndrome': 542, 'Ischemic Colitis': 543, 'Itchy Skin': 544, 'Jaundice': 545, 'Jaw Tumors Cysts': 546, 'Jellyfish Stings': 547, 'Jet Lag': 548, 'Jock Itch': 549, 'Juvenile Idiopathic Arthritis': 550, 'Kawasaki Disease': 551, 'Keloid Scar': 552, 'Keratitis': 553, 'Keratoconus': 554, 'Keratosis Pilaris': 555, 'Kidney Cancer': 556, 'Kidney Cysts': 557, 'Kidney Failure': 558, 'Kidney Infection': 559, 'Kidney Stones': 560, 'Kleptomania': 561, 'Klinefelter Syndrome': 562, 'Klippel Trenaunay': 563, 'Knee Bursitis': 564, 'Knee Pain': 565, 'Kyphosis': 566, 'Lactose Intolerance': 567, 'Laryngitis': 568, 'Latex Allergy': 569, 'Lazy Eye': 570, 'Lead Poisoning': 571, 'Left Ventricular Hypertrophy': 572, 'Legg Calve Perthes Disease': 573, 'Legionnaires Disease': 574, 'Leukemia': 575, 'Leukoplakia': 576, 'Lewy Body Dementia': 577, 'Lice': 578, 'Lichen Planus': 579, 'Lichen Sclerosus': 580, 'Lip Cancer': 581, 'Lipoma': 582, 'Liposarcoma': 583, 'Listeria Infection': 584, 'Liver Cancer': 585, 'Liver Hemangioma': 586, 'Liver Problems': 587, 'Lobular Carcinoma In Situ': 588, 'Long Qt Syndrome': 589, 'Low Blood Pressure': 590, 'Low Sex Drive In Women': 591, 'Low Sperm Count': 592, 'Lung Cancer': 593, 'Lupus': 594, 'Lupus Nephritis': 595, 'Lyme Disease': 596, 'Lymphedema': 597, 'Lymphoma': 598, 'Lynch Syndrome': 599, 'Malaria': 600, 'Male Breast Cancer': 601, 'Male Hypogonadism': 602, 'Male Infertility': 603, 'Malignant Hyperthermia': 604, 'Malignant Peripheral Nerve Sheath Tumors': 605, 'Mammary Duct Ectasia': 606, 'Marfan Syndrome': 607, 'Mastitis': 608, 'Mcad Deficiency': 609, 'Measles': 610, 'Median Arcuate Ligament Syndrome Mals': 611, 'Medication Overuse Headache': 612, 'Melanoma': 613, 'Men 1': 614, 'Men 2': 615, 'Menieres Disease': 616, 'Meningioma': 617, 'Meningitis': 618, 'Menopause': 619, 'Menorrhagia': 620, 'Menstrual Cramps': 621, 'Mental Illness': 622, 'Meralgia Paresthetica': 623, 'Merkel Cell Carcinoma': 624, 'Mesenteric Ischemia': 625, 'Mesenteric Lymphadenitis': 626, 'Mesothelioma': 627, 'Metabolic Syndrome': 628, 'Metachromatic Leukodystrophy': 629, 'Metatarsalgia': 630, 'Mgus': 631, 'Microcephaly': 632, 'Microscopic Colitis': 633, 'Migraine': 634, 'Migraine Headache': 635, 'Migraine With Aura': 636, 'Mild Cognitive Impairment': 637, 'Milk Allergy': 638, 'Mitral Valve Disease': 639, 'Mitral Valve Prolapse': 640, 'Mitral Valve Regurgitation': 641, 'Mitral Valve Stenosis': 642, 'Mittelschmerz': 643, 'Mixed Connective Tissue Disease': 644, 'Molar Pregnancy': 645, 'Mold Allergy': 646, 'Moles': 647, 'Molluscum Contagiosum': 648, 'Mononucleosis': 649, 'Morning Sickness': 650, 'Morphea': 651, 'Mortons Neuroma': 652, 'Mosquito Bites': 653, 'Mouth Cancer': 654, 'Mrsa': 655, 'Multiple Myeloma': 656, 'Multiple Sclerosis': 657, 'Multiple System Atrophy': 658, 'Mumps': 659, 'Muscle Cramp': 660, 'Muscle Strains': 661, 'Muscular Dystrophy': 662, 'Myasthenia Gravis': 663, 'Myelodysplastic Syndrome': 664, 'Myelofibrosis': 665, 'Myocardial Ischemia': 666, 'Myocarditis': 667, 'Myoclonus': 668, 'Myofascial Pain Syndrome': 669, 'Nail Fungus': 670, 'Narcissistic Personality Disorder': 671, 'Narcolepsy': 672, 'Nasal Paranasal Tumors': 673, 'Nasal Polyps': 674, 'Nasopharyngeal Carcinoma': 675, 'Nearsightedness': 676, 'Neck Pain': 677, 'Nephrogenic Systemic Fibrosis': 678, 'Nephrotic Syndrome': 679, 'Neuroblastoma': 680, 'Neurodermatitis': 681, 'Neuroendocrine Tumors': 682, 'Neurofibromatosis': 683, 'Nickel Allergy': 684, 'Nicotine Dependence': 685, 'Niemann Pick': 686, 'Nightmare Disorder': 687, 'Non Hodgkins Lymphoma': 688, 'Nonalcoholic Fatty Liver Disease': 689, 'Nonallergic Rhinitis': 690, 'Noonan Syndrome': 691, 'Norovirus': 692, 'Obesity': 693, 'Obsessive Compulsive Disorder': 694, 'Obstructive Sleep Apnea': 695, 'Occupational Asthma': 696, 'Ocular Rosacea': 697, 'Oppositional Defiant Disorder': 698, 'Optic Neuritis': 699, 'Oral Lichen Planus': 700, 'Oral Thrush': 701, 'Orchitis': 702, 'Orthostatic Hypotension': 703, 'Osteoarthristis': 704, 'Osteoarthritis': 705, 'Osteochondritis Dissecans': 706, 'Osteomyelitis': 707, 'Osteoporosis': 708, 'Osteosarcoma': 709, 'Ovarian Cancer': 710, 'Ovarian Cysts': 711, 'Ovarian Hyperstimulation Syndrome Ohss': 712, 'Overactive Bladder': 713, 'Pagets Disease Of Bone': 714, 'Pagets Disease Of The Breast': 715, 'Painful Intercourse': 716, 'Pancreatic Cancer': 717, 'Pancreatic Cysts': 718, 'Pancreatic Neuroendocrine Tumors': 719, 'Pancreatitis': 720, 'Panic Attacks': 721, 'Paralysis (Brain Hemorrhage)': 722, 'Paraneoplastic Syndromes': 723, 'Parkinsons Disease': 724, 'Parvovirus Infection': 725, 'Patellar Tendinitis': 726, 'Patellofemoral Pain Syndrome': 727, 'Patent Ductus Arteriosus': 728, 'Patent Foramen Ovale': 729, 'Pcos': 730, 'Peanut Allergy': 731, 'Pectus Excavatum': 732, 'Pediatric Brain Tumor': 733, 'Pediatric Sleep Apnea': 734, 'Pelvic Inflammatory Disease': 735, 'Pemphigus': 736, 'Penicillin Allergy': 737, 'Peptic Ulcer': 738, 'Peptic Ulcer Diseae': 739, 'Peptic Ulcer Disease': 740, 'Pericardial Effusion': 741, 'Pericarditis': 742, 'Perimenopause': 743, 'Periodontitis': 744, 'Peripheral Artery Disease': 745, 'Peripheral Nerve Injuries': 746, 'Peripheral Nerve Tumors': 747, 'Peripheral Nerve Tumors Benign': 748, 'Peripheral Neuropathy': 749, 'Peritonitis': 750, 'Persistent Depressive Disorder': 751, 'Personality Disorders': 752, 'Pet Allergy': 753, 'Petit Mal Seizure': 754, 'Peyronies Disease': 755, 'Phenylketonuria': 756, 'Pheochromocytoma': 757, 'Pilonidal Cyst': 758, 'Pinched Nerve': 759, 'Pink Eye': 760, 'Pinworm': 761, 'Pituitary Tumors': 762, 'Pityriasis Rosea': 763, 'Placenta Accreta': 764, 'Placenta Previa': 765, 'Placental Abruption': 766, 'Plague': 767, 'Plantar Fasciitis': 768, 'Plantar Warts': 769, 'Pneumonia': 770, 'Pneumonitis': 771, 'Pneumothorax': 772, 'Poison Ivy': 773, 'Polio': 774, 'Polycystic Kidney Disease': 775, 'Polycythemia Vera': 776, 'Polyhydramnios': 777, 'Polymorphous Light Eruption': 778, 'Polymyalgia Rheumatica': 779, 'Polymyositis': 780, 'Poor Color Vision': 781, 'Popliteal Artery Aneurysm': 782, 'Popliteal Artery Entrapment': 783, 'Porphyria': 784, 'Post Concussion Syndrome': 785, 'Post Polio Syndrome': 786, 'Post Traumatic Stress Disorder': 787, 'Post Vasectomy Pain Syndrome': 788, 'Posterior Cortical Atrophy': 789, 'Postherpetic Neuralgia': 790, 'Postpartum Depression': 791, 'Postpartum Preeclampsia': 792, 'Pouchitis': 793, 'Prader Willi Syndrome': 794, 'Precocious Puberty': 795, 'Prediabetes': 796, 'Preeclampsia': 797, 'Pregnancy Loss Miscarriage': 798, 'Prehypertension': 799, 'Premature Birth': 800, 'Premature Ejaculation': 801, 'Premature Ovarian Failure': 802, 'Premature Ventricular Contractions': 803, 'Premenstrual Syndrome': 804, 'Presbyopia': 805, 'Prescription Drug Abuse': 806, 'Preterm Labor': 807, 'Priapism': 808, 'Primary Biliary Cholangitis': 809, 'Primary Cough Headaches': 810, 'Primary Immunodeficiency': 811, 'Primary Lateral Sclerosis': 812, 'Primary Progressive Aphasia': 813, 'Primary Sclerosing Cholangitis': 814, 'Proctitis': 815, 'Progeria': 816, 'Progressive Supranuclear Palsy': 817, 'Prolactinoma': 818, 'Prostate Cancer': 819, 'Prostatitis': 820, 'Pseudobulbar Affect': 821, 'Pseudocholinesterase Deficiency': 822, 'Pseudogout': 823, 'Pseudomembranous Colitis': 824, 'Pseudotumor Cerebri': 825, 'Psoriasis': 826, 'Psoriatic Arthritis': 827, 'Pubic Lice Crabs': 828, 'Pulmonary Atresia': 829, 'Pulmonary Edema': 830, 'Pulmonary Embolism': 831, 'Pulmonary Fibrosis': 832, 'Pulmonary Hypertension': 833, 'Pulmonary Valve Stenosis': 834, 'Pyloric Stenosis': 835, 'Pyoderma Gangrenosum': 836, 'Rabies': 837, 'Radiation Enteritis': 838, 'Radiation Sickness': 839, 'Ramsay Hunt Syndrome': 840, 'Raynauds Disease': 841, 'Reactive Arthritis': 842, 'Reactive Attachment Disorder': 843, 'Rectal Cancer': 844, 'Rectal Prolapse': 845, 'Rectal Ulcer': 846, 'Rectocele': 847, 'Rectovaginal Fistula': 848, 'Recurrent Breast Cancer': 849, 'Rem Sleep Behavior Disorder': 850, 'Renal Artery Stenosis': 851, 'Respiratory Syncytial Virus': 852, 'Restless Legs Syndrome': 853, 'Retinal Detachment': 854, 'Retinal Diseases': 855, 'Retinoblastoma': 856, 'Retractile Testicle': 857, 'Retrograde Ejaculation': 858, 'Rett Syndrome': 859, 'Reyes Syndrome': 860, 'Rhabdomyosarcoma': 861, 'Rheumatic Fever': 862, 'Rheumatoid Arthritis': 863, 'Rickets': 864, 'Ringworm Body': 865, 'Ringworm Scalp': 866, 'Rosacea': 867, 'Roseola': 868, 'Rotator Cuff Injury': 869, 'Rotavirus': 870, 'Rubella': 871, 'Rumination Syndrome': 872, 'Ruptured Eardrum': 873, 'Ruptured Spleen': 874, 'Sacral Dimple': 875, 'Sacroiliitis': 876, 'Salivary Gland Cancer': 877, 'Salmonella': 878, 'Sarcoidosis': 879, 'Sarcoma': 880, 'Sars': 881, 'Scabies': 882, 'Scarlet Fever': 883, 'Schizoaffective Disorder': 884, 'Schizoid Personality Disorder': 885, 'Schizophrenia': 886, 'Schizotypal Personality Disorder': 887, 'Sciatica': 888, 'Scleroderma': 889, 'Sclerosing Mesenteritis': 890, 'Scoliosis': 891, 'Scorpion Stings': 892, 'Scrotal Masses': 893, 'Seasonal Affective Disorder': 894, 'Seborrheic Dermatitis': 895, 'Seborrheic Keratosis': 896, 'Secondary Hypertension': 897, 'Seizure': 898, 'Separation Anxiety Disorder': 899, 'Sepsis': 900, 'Serotonin Syndrome': 901, 'Sex Headaches': 902, 'Sexually Transmitted Diseases Stds': 903, 'Shaken Baby Syndrome': 904, 'Shellfish Allergy': 905, 'Shigella': 906, 'Shin Splints': 907, 'Shingles': 908, 'Short Bowel Syndrome': 909, 'Sick Sinus Syndrome': 910, 'Sickle Cell Anemia': 911, 'Sinus Headaches': 912, 'Sjogrens Syndrome': 913, 'Skin Cancer': 914, 'Sleep Apnea': 915, 'Sleep Disorders': 916, 'Sleep Terrors': 917, 'Sleepwalking': 918, 'Small Bowel Cancer': 919, 'Small Intestinal Bacterial Overgrowth': 920, 'Small Vessel Disease': 921, 'Smallpox': 922, 'Snoring': 923, 'Social Anxiety Disorder': 924, 'Soft Palate Cancer': 925, 'Soft Tissue Sarcoma': 926, 'Somatic Symptom Disorder': 927, 'Sore Throat': 928, 'Specific Phobias': 929, 'Spermatocele': 930, 'Spider Bites': 931, 'Spina Bifida': 932, 'Spinal Arteriovenous Malformation': 933, 'Spinal Cord Injury': 934, 'Spinal Cord Tumor': 935, 'Spinal Headaches': 936, 'Spinal Stenosis': 937, 'Spontaneous Coronary Artery Dissection': 938, 'Sprained Ankle': 939, 'Sprains': 940, 'Squamous Cell Carcinoma': 941, 'Stage 4 Prostate Cancer': 942, 'Staph Infections': 943, 'Stevens Johnson Syndrome': 944, 'Stickler Syndrome': 945, 'Stomach Cancer': 946, 'Stomach Polyps': 947, 'Strep Throat': 948, 'Stress Fractures': 949, 'Stress Incontinence': 950, 'Stretch Marks': 951, 'Stroke': 952, 'Stuttering': 953, 'Sty': 954, 'Subconjunctival Hemorrhage': 955, 'Sudden Cardiac Arrest': 956, 'Suicide': 957, 'Sun Allergy': 958, 'Sunburn': 959, 'Supraventricular Tachycardia': 960, 'Suspicious Breast Lumps': 961, 'Sweating And Body Odor': 962, 'Swimmers Ear': 963, 'Swimmers Itch': 964, 'Swine Flu': 965, 'Swollen Knee': 966, 'Swollen Lymph Nodes': 967, 'Syphilis': 968, 'Systemic Mastocytosis': 969, 'Tachycardia': 970, 'Takayasus Arteritis': 971, 'Tapeworm': 972, 'Tay Sachs Disease': 973, 'Teen Depression': 974, 'Temporal Lobe Seizure': 975, 'Tendinitis': 976, 'Tennis Elbow': 977, 'Tension Headache': 978, 'Testicular Cancer Care': 979, 'Testicular Torsion': 980, 'Tetanus': 981, 'Tetralogy Of Fallot': 982, 'Thalassemia': 983, 'Thoracic Aortic Aneurysm': 984, 'Thoracic Outlet Syndrome': 985, 'Throat Cancer': 986, 'Thrombocytopenia': 987, 'Thrombocytosis': 988, 'Thumb Arthritis': 989, 'Thunderclap Headaches': 990, 'Thyroid Cancer': 991, 'Thyroid Nodules': 992, 'Tinea Versicolor': 993, 'Tinnitus': 994, 'Tmj': 995, 'Toe Walking': 996, 'Tongue Tie': 997, 'Tonsil Cancer': 998, 'Tonsillitis': 999, 'Tooth Abscess': 1000, 'Torn Meniscus': 1001, 'Tourette Syndrome': 1002, 'Toxic Epidermal Necrolysis': 1003, 'Toxic Hepatitis': 1004, 'Toxic Shock Syndrome': 1005, 'Toxoplasmosis': 1006, 'Trachoma': 1007, 'Transient Global Amnesia': 1008, 'Transient Ischemic Attack': 1009, 'Transposition Of The Great Arteries': 1010, 'Transverse Myelitis': 1011, 'Traumatic Brain Injury': 1012, 'Travelers Diarrhea': 1013, 'Trichinosis': 1014, 'Trichomoniasis': 1015, 'Trichotillomania': 1016, 'Tricuspid Atresia': 1017, 'Tricuspid Valve Regurgitation': 1018, 'Trigeminal Neuralgia': 1019, 'Trigger Finger': 1020, 'Triple X Syndrome': 1021, 'Truncus Arteriosus': 1022, 'Tuberculosis': 1023, 'Tuberous Sclerosis': 1024, 'Turner Syndrome': 1025, 'Type 1 Diabetes': 1026, 'Type 1 Diabetes In Children': 1027, 'Type 2 Diabetes': 1028, 'Type 2 Diabetes In Children': 1029, 'Typhoid': 1030, 'Typhoid Fever': 1031, 'Ulcerative Colitis': 1032, 'Umbilical Hernia': 1033, 'Undescended Testicle': 1034, 'Undifferentiated Pleomorphic Sarcoma': 1035, 'Ureteral Cancer': 1036, 'Ureteral Obstruction': 1037, 'Urethral Stricture': 1038, 'Urinary Tract Infection': 1039, 'Urine Color': 1040, 'Uterine Fibroids': 1041, 'Uterine Polyps': 1042, 'Uterine Prolapse': 1043, 'Uveitis': 1044, 'Vaginal Agenesis': 1045, 'Vaginal Atrophy': 1046, 'Vaginal Cancer': 1047, 'Vaginitis': 1048, 'Valley Fever': 1049, 'Varicocele': 1050, 'Varicose Veins': 1051, 'Vascular Dementia': 1052, 'Vasculitis': 1053, 'Vasovagal Syncope': 1054, 'Ventricular Fibrillation': 1055, 'Ventricular Septal Defect': 1056, 'Ventricular Tachycardia': 1057, 'Vertebral Tumor': 1058, 'Vertigo': 1059, 'Vesicoureteral Reflux': 1060, 'Viral Gastroenteritis': 1061, 'Viral Hemorrhagic Fevers': 1062, 'Vitamin Deficiency Anemia': 1063, 'Vitiligo': 1064, 'Vocal Cord Paralysis': 1065, 'Von Willebrand Disease': 1066, 'Vulvar Cancer': 1067, 'Vulvodynia': 1068, 'Waldenstrom Macroglobulinemia': 1069, 'Wet Macular Degeneration': 1070, 'Wheat Allergy': 1071, 'Whiplash': 1072, 'Whipples Disease': 1073, 'Whooping Cough': 1074, 'Wilms Tumor': 1075, 'Wilsons Disease': 1076, 'Wisdom Teeth': 1077, 'Wolff Parkinson White Syndrome': 1078, 'Wrinkles': 1079, 'Wrist Pain': 1080, 'X Linked Agammaglobulinemia': 1081, 'Yeast Infection': 1082, 'Yips': 1083, 'Zika Virus': 1084, 'Zollinger Ellison Syndrome': 1085, 'allergy': 1086, 'diabetes': 1087, 'drug reaction': 1088, 'gastroesophageal reflux disease': 1089, 'peptic ulcer disease': 1090, 'urinary tract infection': 1091}\n"
     ]
    },
    {
     "data": {
      "text/plain": [
       "1092"
      ]
     },
     "execution_count": 57,
     "metadata": {},
     "output_type": "execute_result"
    }
   ],
   "source": [
    "label_encoder = LabelEncoder()\n",
    "\n",
    "# Fit label encoder to disease names\n",
    "df_balanced['encoded_labels'] = label_encoder.fit_transform(df_balanced['label'])\n",
    "\n",
    "# Check the mapping of diseases to numbers\n",
    "label_map = dict(zip(label_encoder.classes_, range(len(label_encoder.classes_))))\n",
    "print(label_map)\n",
    "len(label_map)"
   ]
  },
  {
   "cell_type": "code",
   "execution_count": 58,
   "id": "f3900019-9e79-4f1e-a27c-0ef92d07827f",
   "metadata": {
    "colab": {
     "base_uri": "https://localhost:8080/",
     "height": 424
    },
    "executionInfo": {
     "elapsed": 20,
     "status": "ok",
     "timestamp": 1727158286394,
     "user": {
      "displayName": "21DIT023 PRIYENBHAI ITALIYA",
      "userId": "12661479872595247542"
     },
     "user_tz": -330
    },
    "id": "f3900019-9e79-4f1e-a27c-0ef92d07827f",
    "outputId": "e2dfd65a-d133-4655-b4ef-37be14264268"
   },
   "outputs": [
    {
     "data": {
      "text/html": [
       "<div>\n",
       "<style scoped>\n",
       "    .dataframe tbody tr th:only-of-type {\n",
       "        vertical-align: middle;\n",
       "    }\n",
       "\n",
       "    .dataframe tbody tr th {\n",
       "        vertical-align: top;\n",
       "    }\n",
       "\n",
       "    .dataframe thead th {\n",
       "        text-align: right;\n",
       "    }\n",
       "</style>\n",
       "<table border=\"1\" class=\"dataframe\">\n",
       "  <thead>\n",
       "    <tr style=\"text-align: right;\">\n",
       "      <th></th>\n",
       "      <th>text</th>\n",
       "      <th>label</th>\n",
       "      <th>encoded_labels</th>\n",
       "    </tr>\n",
       "  </thead>\n",
       "  <tbody>\n",
       "    <tr>\n",
       "      <th>0</th>\n",
       "      <td>I have been having migraines and headaches. I ...</td>\n",
       "      <td>Drug Reaction</td>\n",
       "      <td>311</td>\n",
       "    </tr>\n",
       "    <tr>\n",
       "      <th>1</th>\n",
       "      <td>I have asthma and I get wheezing and breathing...</td>\n",
       "      <td>Allergy</td>\n",
       "      <td>35</td>\n",
       "    </tr>\n",
       "    <tr>\n",
       "      <th>2</th>\n",
       "      <td>Signs and symptoms of primary ovarian insuffic...</td>\n",
       "      <td>Premature Ovarian Failure</td>\n",
       "      <td>802</td>\n",
       "    </tr>\n",
       "    <tr>\n",
       "      <th>3</th>\n",
       "      <td>cough,high_fever,breathlessness,family_history...</td>\n",
       "      <td>Bronchial Asthma</td>\n",
       "      <td>149</td>\n",
       "    </tr>\n",
       "    <tr>\n",
       "      <th>4</th>\n",
       "      <td>chills,vomiting,high_fever,sweating,headache,n...</td>\n",
       "      <td>Malaria</td>\n",
       "      <td>600</td>\n",
       "    </tr>\n",
       "    <tr>\n",
       "      <th>...</th>\n",
       "      <td>...</td>\n",
       "      <td>...</td>\n",
       "      <td>...</td>\n",
       "    </tr>\n",
       "    <tr>\n",
       "      <th>38311</th>\n",
       "      <td>Symptoms of Zollinger-Ellison syndrome may inc...</td>\n",
       "      <td>Zollinger Ellison Syndrome</td>\n",
       "      <td>1085</td>\n",
       "    </tr>\n",
       "    <tr>\n",
       "      <th>38312</th>\n",
       "      <td>Symptoms of Zollinger-Ellison syndrome may inc...</td>\n",
       "      <td>Zollinger Ellison Syndrome</td>\n",
       "      <td>1085</td>\n",
       "    </tr>\n",
       "    <tr>\n",
       "      <th>38313</th>\n",
       "      <td>Symptoms of Zollinger-Ellison syndrome may inc...</td>\n",
       "      <td>Zollinger Ellison Syndrome</td>\n",
       "      <td>1085</td>\n",
       "    </tr>\n",
       "    <tr>\n",
       "      <th>38314</th>\n",
       "      <td>Symptoms of Zollinger-Ellison syndrome may inc...</td>\n",
       "      <td>Zollinger Ellison Syndrome</td>\n",
       "      <td>1085</td>\n",
       "    </tr>\n",
       "    <tr>\n",
       "      <th>38315</th>\n",
       "      <td>Symptoms of Zollinger-Ellison syndrome may inc...</td>\n",
       "      <td>Zollinger Ellison Syndrome</td>\n",
       "      <td>1085</td>\n",
       "    </tr>\n",
       "  </tbody>\n",
       "</table>\n",
       "<p>38316 rows × 3 columns</p>\n",
       "</div>"
      ],
      "text/plain": [
       "                                                    text  \\\n",
       "0      I have been having migraines and headaches. I ...   \n",
       "1      I have asthma and I get wheezing and breathing...   \n",
       "2      Signs and symptoms of primary ovarian insuffic...   \n",
       "3      cough,high_fever,breathlessness,family_history...   \n",
       "4      chills,vomiting,high_fever,sweating,headache,n...   \n",
       "...                                                  ...   \n",
       "38311  Symptoms of Zollinger-Ellison syndrome may inc...   \n",
       "38312  Symptoms of Zollinger-Ellison syndrome may inc...   \n",
       "38313  Symptoms of Zollinger-Ellison syndrome may inc...   \n",
       "38314  Symptoms of Zollinger-Ellison syndrome may inc...   \n",
       "38315  Symptoms of Zollinger-Ellison syndrome may inc...   \n",
       "\n",
       "                            label  encoded_labels  \n",
       "0                   Drug Reaction             311  \n",
       "1                         Allergy              35  \n",
       "2       Premature Ovarian Failure             802  \n",
       "3                Bronchial Asthma             149  \n",
       "4                         Malaria             600  \n",
       "...                           ...             ...  \n",
       "38311  Zollinger Ellison Syndrome            1085  \n",
       "38312  Zollinger Ellison Syndrome            1085  \n",
       "38313  Zollinger Ellison Syndrome            1085  \n",
       "38314  Zollinger Ellison Syndrome            1085  \n",
       "38315  Zollinger Ellison Syndrome            1085  \n",
       "\n",
       "[38316 rows x 3 columns]"
      ]
     },
     "execution_count": 58,
     "metadata": {},
     "output_type": "execute_result"
    }
   ],
   "source": [
    "df_balanced"
   ]
  },
  {
   "cell_type": "code",
   "execution_count": 59,
   "id": "5a53f1e0-c2f7-473e-891c-5ef59a5c8bbf",
   "metadata": {
    "executionInfo": {
     "elapsed": 2,
     "status": "ok",
     "timestamp": 1727158286407,
     "user": {
      "displayName": "21DIT023 PRIYENBHAI ITALIYA",
      "userId": "12661479872595247542"
     },
     "user_tz": -330
    },
    "id": "5a53f1e0-c2f7-473e-891c-5ef59a5c8bbf"
   },
   "outputs": [],
   "source": [
    "y=list(df_balanced['encoded_labels'])"
   ]
  },
  {
   "cell_type": "code",
   "execution_count": 60,
   "id": "100fedd3-4f4f-4164-865d-5a0aaf726e37",
   "metadata": {
    "colab": {
     "base_uri": "https://localhost:8080/"
    },
    "executionInfo": {
     "elapsed": 4,
     "status": "ok",
     "timestamp": 1727158286412,
     "user": {
      "displayName": "21DIT023 PRIYENBHAI ITALIYA",
      "userId": "12661479872595247542"
     },
     "user_tz": -330
    },
    "id": "100fedd3-4f4f-4164-865d-5a0aaf726e37",
    "outputId": "1ff20ac2-db0f-4539-a20f-3d207059c233"
   },
   "outputs": [
    {
     "data": {
      "text/plain": [
       "38316"
      ]
     },
     "execution_count": 60,
     "metadata": {},
     "output_type": "execute_result"
    }
   ],
   "source": [
    "len(y)"
   ]
  },
  {
   "cell_type": "code",
   "execution_count": 61,
   "id": "c6c29cc6-7903-4cea-9e2a-4cde10692061",
   "metadata": {
    "executionInfo": {
     "elapsed": 2,
     "status": "ok",
     "timestamp": 1727158286431,
     "user": {
      "displayName": "21DIT023 PRIYENBHAI ITALIYA",
      "userId": "12661479872595247542"
     },
     "user_tz": -330
    },
    "id": "c6c29cc6-7903-4cea-9e2a-4cde10692061"
   },
   "outputs": [],
   "source": [
    "x=list(df_balanced['text'])"
   ]
  },
  {
   "cell_type": "code",
   "execution_count": 62,
   "id": "0b370fa1-e502-4725-81c5-87d989507152",
   "metadata": {
    "colab": {
     "base_uri": "https://localhost:8080/"
    },
    "executionInfo": {
     "elapsed": 24,
     "status": "ok",
     "timestamp": 1727158286456,
     "user": {
      "displayName": "21DIT023 PRIYENBHAI ITALIYA",
      "userId": "12661479872595247542"
     },
     "user_tz": -330
    },
    "id": "0b370fa1-e502-4725-81c5-87d989507152",
    "outputId": "d047270a-abfb-4aae-e8f7-87496dc75389"
   },
   "outputs": [
    {
     "data": {
      "text/plain": [
       "38316"
      ]
     },
     "execution_count": 62,
     "metadata": {},
     "output_type": "execute_result"
    }
   ],
   "source": [
    "len(x)"
   ]
  },
  {
   "cell_type": "markdown",
   "id": "e3aaf8b5-6e48-4c0c-a590-524ed58f12ff",
   "metadata": {
    "id": "e3aaf8b5-6e48-4c0c-a590-524ed58f12ff"
   },
   "source": [
    "### Train Test Split"
   ]
  },
  {
   "cell_type": "code",
   "execution_count": 63,
   "id": "5fbffee9-ce8a-4828-bd9f-1a676f203727",
   "metadata": {
    "executionInfo": {
     "elapsed": 15,
     "status": "ok",
     "timestamp": 1727158286486,
     "user": {
      "displayName": "21DIT023 PRIYENBHAI ITALIYA",
      "userId": "12661479872595247542"
     },
     "user_tz": -330
    },
    "id": "5fbffee9-ce8a-4828-bd9f-1a676f203727"
   },
   "outputs": [],
   "source": [
    "from sklearn.model_selection import train_test_split\n",
    "x_train, x_test, y_train, y_test = train_test_split(x, y, test_size = 0.20, random_state = 42,shuffle=True)\n"
   ]
  },
  {
   "cell_type": "markdown",
   "id": "70404e97-d477-4218-9624-8811b3b975f7",
   "metadata": {
    "id": "70404e97-d477-4218-9624-8811b3b975f7"
   },
   "source": [
    "## Model Train"
   ]
  },
  {
   "cell_type": "code",
   "execution_count": 64,
   "id": "72c81d35-535e-4946-933e-2357e967253b",
   "metadata": {
    "colab": {
     "base_uri": "https://localhost:8080/"
    },
    "executionInfo": {
     "elapsed": 696,
     "status": "ok",
     "timestamp": 1727158287183,
     "user": {
      "displayName": "21DIT023 PRIYENBHAI ITALIYA",
      "userId": "12661479872595247542"
     },
     "user_tz": -330
    },
    "id": "72c81d35-535e-4946-933e-2357e967253b",
    "outputId": "4b59bd3b-49f0-4597-e7a8-1abdd158e074"
   },
   "outputs": [
    {
     "name": "stderr",
     "output_type": "stream",
     "text": [
      "/home/coeai/Downloads/myenv/lib/python3.12/site-packages/transformers/tokenization_utils_base.py:1601: FutureWarning: `clean_up_tokenization_spaces` was not set. It will be set to `True` by default. This behavior will be depracted in transformers v4.45, and will be then set to `False` by default. For more details check this issue: https://github.com/huggingface/transformers/issues/31884\n",
      "  warnings.warn(\n"
     ]
    }
   ],
   "source": [
    "from transformers import DistilBertTokenizerFast\n",
    "tokenizer = DistilBertTokenizerFast.from_pretrained('distilbert-base-uncased')"
   ]
  },
  {
   "cell_type": "code",
   "execution_count": 65,
   "id": "df728a28-929a-4df3-8c8f-17450b50d91d",
   "metadata": {
    "executionInfo": {
     "elapsed": 4678,
     "status": "ok",
     "timestamp": 1727158291862,
     "user": {
      "displayName": "21DIT023 PRIYENBHAI ITALIYA",
      "userId": "12661479872595247542"
     },
     "user_tz": -330
    },
    "id": "df728a28-929a-4df3-8c8f-17450b50d91d"
   },
   "outputs": [],
   "source": [
    "train_encodings = tokenizer(x_train, truncation=True, padding=True)\n",
    "test_encodings = tokenizer(x_test, truncation=True, padding=True)"
   ]
  },
  {
   "cell_type": "code",
   "execution_count": 66,
   "id": "536027a2-3217-400a-b77e-f840ce4cb0e8",
   "metadata": {
    "executionInfo": {
     "elapsed": 53679,
     "status": "ok",
     "timestamp": 1727158345544,
     "user": {
      "displayName": "21DIT023 PRIYENBHAI ITALIYA",
      "userId": "12661479872595247542"
     },
     "user_tz": -330
    },
    "id": "536027a2-3217-400a-b77e-f840ce4cb0e8"
   },
   "outputs": [],
   "source": [
    "import tensorflow as tf\n",
    "train_dataset = tf.data.Dataset.from_tensor_slices((\n",
    "    dict(train_encodings),\n",
    "    y_train\n",
    "))\n",
    "\n",
    "test_dataset = tf.data.Dataset.from_tensor_slices((\n",
    "    dict(test_encodings),\n",
    "    y_test\n",
    "))"
   ]
  },
  {
   "cell_type": "code",
   "execution_count": 67,
   "id": "852df87b-38ee-484a-88ee-78ef802522ef",
   "metadata": {
    "colab": {
     "base_uri": "https://localhost:8080/"
    },
    "executionInfo": {
     "elapsed": 912,
     "status": "ok",
     "timestamp": 1727158346459,
     "user": {
      "displayName": "21DIT023 PRIYENBHAI ITALIYA",
      "userId": "12661479872595247542"
     },
     "user_tz": -330
    },
    "id": "852df87b-38ee-484a-88ee-78ef802522ef",
    "outputId": "26f09120-7c91-442e-ae30-bbeaac67b662"
   },
   "outputs": [
    {
     "name": "stderr",
     "output_type": "stream",
     "text": [
      "Some weights of the PyTorch model were not used when initializing the TF 2.0 model TFDistilBertForSequenceClassification: ['vocab_projector.bias', 'vocab_layer_norm.bias', 'vocab_transform.weight', 'vocab_layer_norm.weight', 'vocab_transform.bias']\n",
      "- This IS expected if you are initializing TFDistilBertForSequenceClassification from a PyTorch model trained on another task or with another architecture (e.g. initializing a TFBertForSequenceClassification model from a BertForPreTraining model).\n",
      "- This IS NOT expected if you are initializing TFDistilBertForSequenceClassification from a PyTorch model that you expect to be exactly identical (e.g. initializing a TFBertForSequenceClassification model from a BertForSequenceClassification model).\n",
      "Some weights or buffers of the TF 2.0 model TFDistilBertForSequenceClassification were not initialized from the PyTorch model and are newly initialized: ['pre_classifier.weight', 'pre_classifier.bias', 'classifier.weight', 'classifier.bias']\n",
      "You should probably TRAIN this model on a down-stream task to be able to use it for predictions and inference.\n"
     ]
    }
   ],
   "source": [
    "from transformers import TFDistilBertForSequenceClassification\n",
    "model = TFDistilBertForSequenceClassification.from_pretrained('distilbert-base-uncased', num_labels=len(label_map))"
   ]
  },
  {
   "cell_type": "code",
   "execution_count": 68,
   "id": "095209a2-fe29-4df8-ab10-444f5c02bd98",
   "metadata": {
    "executionInfo": {
     "elapsed": 2,
     "status": "ok",
     "timestamp": 1727158346462,
     "user": {
      "displayName": "21DIT023 PRIYENBHAI ITALIYA",
      "userId": "12661479872595247542"
     },
     "user_tz": -330
    },
    "id": "095209a2-fe29-4df8-ab10-444f5c02bd98"
   },
   "outputs": [],
   "source": [
    "model.compile(\n",
    "    optimizer=tf.keras.optimizers.Adam(learning_rate=5e-5),\n",
    "    loss=tf.keras.losses.SparseCategoricalCrossentropy(from_logits=True),\n",
    "    metrics=['accuracy']\n",
    ")"
   ]
  },
  {
   "cell_type": "code",
   "execution_count": 70,
   "id": "7ce0c5f5-86e2-4549-ab24-04c5151ee1c6",
   "metadata": {
    "colab": {
     "base_uri": "https://localhost:8080/"
    },
    "executionInfo": {
     "elapsed": 3916492,
     "status": "ok",
     "timestamp": 1727162313857,
     "user": {
      "displayName": "21DIT023 PRIYENBHAI ITALIYA",
      "userId": "12661479872595247542"
     },
     "user_tz": -330
    },
    "id": "7ce0c5f5-86e2-4549-ab24-04c5151ee1c6",
    "outputId": "e62f90d4-d74f-4300-d332-c63daf4e33bd"
   },
   "outputs": [
    {
     "name": "stdout",
     "output_type": "stream",
     "text": [
      "Epoch 1/5\n",
      "1916/1916 [==============================] - 794s 412ms/step - loss: 3.1010 - accuracy: 0.6002 - val_loss: 0.1955 - val_accuracy: 0.9730\n",
      "Epoch 2/5\n",
      "1916/1916 [==============================] - 770s 402ms/step - loss: 0.1010 - accuracy: 0.9844 - val_loss: 0.0556 - val_accuracy: 0.9863\n",
      "Epoch 3/5\n",
      "1916/1916 [==============================] - 763s 398ms/step - loss: 0.0354 - accuracy: 0.9924 - val_loss: 0.0473 - val_accuracy: 0.9875\n",
      "Epoch 4/5\n",
      "1916/1916 [==============================] - 800s 417ms/step - loss: 0.0240 - accuracy: 0.9945 - val_loss: 0.0481 - val_accuracy: 0.9886\n",
      "Epoch 5/5\n",
      "1916/1916 [==============================] - 789s 412ms/step - loss: 0.0209 - accuracy: 0.9958 - val_loss: 0.0431 - val_accuracy: 0.9901\n"
     ]
    }
   ],
   "source": [
    "history = model.fit(\n",
    "    train_dataset.shuffle(100).batch(16),\n",
    "    epochs=5,\n",
    "    validation_data=test_dataset.batch(16)\n",
    ")"
   ]
  },
  {
   "cell_type": "code",
   "execution_count": 71,
   "id": "3d21fa3b-76b6-4f42-aceb-c776e5be63f9",
   "metadata": {
    "colab": {
     "base_uri": "https://localhost:8080/"
    },
    "executionInfo": {
     "elapsed": 37,
     "status": "ok",
     "timestamp": 1727162327168,
     "user": {
      "displayName": "21DIT023 PRIYENBHAI ITALIYA",
      "userId": "12661479872595247542"
     },
     "user_tz": -330
    },
    "id": "3d21fa3b-76b6-4f42-aceb-c776e5be63f9",
    "outputId": "cf338f81-259a-4b8a-da9c-82cf44602ee2"
   },
   "outputs": [
    {
     "name": "stdout",
     "output_type": "stream",
     "text": [
      "Physical devices cannot be modified after being initialized\n"
     ]
    }
   ],
   "source": [
    "gpus = tf.config.list_physical_devices('GPU')\n",
    "if gpus:\n",
    "    try:\n",
    "        for gpu in gpus:\n",
    "            tf.config.experimental.set_memory_growth(gpu, True)\n",
    "    except RuntimeError as e:\n",
    "        print(e)"
   ]
  },
  {
   "cell_type": "code",
   "execution_count": 76,
   "id": "999c5db5-1af9-4d2f-a80e-872ec10fe882",
   "metadata": {
    "colab": {
     "base_uri": "https://localhost:8080/"
    },
    "executionInfo": {
     "elapsed": 98372,
     "status": "ok",
     "timestamp": 1727162607215,
     "user": {
      "displayName": "21DIT023 PRIYENBHAI ITALIYA",
      "userId": "12661479872595247542"
     },
     "user_tz": -330
    },
    "id": "999c5db5-1af9-4d2f-a80e-872ec10fe882",
    "outputId": "a4a53c14-cafd-47d0-f93b-f5ea1258854b"
   },
   "outputs": [
    {
     "name": "stdout",
     "output_type": "stream",
     "text": [
      "7664/7664 [==============================] - 93s 12ms/step\n"
     ]
    },
    {
     "data": {
      "text/plain": [
       "TFSequenceClassifierOutput(loss=None, logits=array([[-40.571964 , -32.209625 , -34.385403 , ..., -34.66711  ,\n",
       "        -33.431705 , -28.729927 ],\n",
       "       [-40.41717  , -31.402586 , -41.161594 , ..., -33.683872 ,\n",
       "        -28.154911 , -26.344643 ],\n",
       "       [-17.055494 , -13.5229845, -11.987849 , ..., -12.517168 ,\n",
       "        -14.525091 , -12.302404 ],\n",
       "       ...,\n",
       "       [-33.39124  , -31.607574 , -30.303644 , ..., -29.730427 ,\n",
       "        -29.686369 , -28.84664  ],\n",
       "       [-39.30135  , -38.899715 , -39.558247 , ..., -40.81652  ,\n",
       "        -35.330658 , -32.942158 ],\n",
       "       [-31.24191  , -27.738544 , -29.06586  , ..., -26.248901 ,\n",
       "        -25.750252 , -24.034447 ]], dtype=float32), hidden_states=None, attentions=None)"
      ]
     },
     "execution_count": 76,
     "metadata": {},
     "output_type": "execute_result"
    }
   ],
   "source": [
    "model.predict(test_dataset)"
   ]
  },
  {
   "cell_type": "code",
   "execution_count": 80,
   "id": "I1W47w-t7aJj",
   "metadata": {
    "colab": {
     "base_uri": "https://localhost:8080/"
    },
    "executionInfo": {
     "elapsed": 94375,
     "status": "ok",
     "timestamp": 1727162976660,
     "user": {
      "displayName": "21DIT023 PRIYENBHAI ITALIYA",
      "userId": "12661479872595247542"
     },
     "user_tz": -330
    },
    "id": "I1W47w-t7aJj",
    "outputId": "78cfb5f7-9d96-4024-abe6-ad64ee111283"
   },
   "outputs": [
    {
     "name": "stdout",
     "output_type": "stream",
     "text": [
      "7664/7664 [==============================] - 91s 12ms/step\n",
      "TFSequenceClassifierOutput(loss=None, logits=array([[-40.571964 , -32.209625 , -34.385403 , ..., -34.66711  ,\n",
      "        -33.431705 , -28.729927 ],\n",
      "       [-40.41717  , -31.402586 , -41.161594 , ..., -33.683872 ,\n",
      "        -28.154911 , -26.344643 ],\n",
      "       [-17.055494 , -13.5229845, -11.987849 , ..., -12.517168 ,\n",
      "        -14.525091 , -12.302404 ],\n",
      "       ...,\n",
      "       [-33.39124  , -31.607574 , -30.303644 , ..., -29.730427 ,\n",
      "        -29.686369 , -28.84664  ],\n",
      "       [-39.30135  , -38.899715 , -39.558247 , ..., -40.81652  ,\n",
      "        -35.330658 , -32.942158 ],\n",
      "       [-31.24191  , -27.738544 , -29.06586  , ..., -26.248901 ,\n",
      "        -25.750252 , -24.034447 ]], dtype=float32), hidden_states=None, attentions=None)\n",
      "1\n"
     ]
    }
   ],
   "source": [
    "predictions = model.predict(test_dataset)\n",
    "print(predictions)\n",
    "print(len(predictions)) # Check the length of the returned tuple/object"
   ]
  },
  {
   "cell_type": "code",
   "execution_count": 84,
   "id": "ada49211-16fe-4d2f-87e6-67da262a9ca2",
   "metadata": {
    "executionInfo": {
     "elapsed": 9,
     "status": "ok",
     "timestamp": 1727163106721,
     "user": {
      "displayName": "21DIT023 PRIYENBHAI ITALIYA",
      "userId": "12661479872595247542"
     },
     "user_tz": -330
    },
    "id": "ada49211-16fe-4d2f-87e6-67da262a9ca2"
   },
   "outputs": [],
   "source": [
    "predictions=predictions.logits"
   ]
  },
  {
   "cell_type": "code",
   "execution_count": 85,
   "id": "At6IelhO8Y5-",
   "metadata": {
    "colab": {
     "base_uri": "https://localhost:8080/"
    },
    "executionInfo": {
     "elapsed": 9,
     "status": "ok",
     "timestamp": 1727163119118,
     "user": {
      "displayName": "21DIT023 PRIYENBHAI ITALIYA",
      "userId": "12661479872595247542"
     },
     "user_tz": -330
    },
    "id": "At6IelhO8Y5-",
    "outputId": "1ebb3a20-6ee6-42e9-b2c4-02641722ccef"
   },
   "outputs": [
    {
     "name": "stdout",
     "output_type": "stream",
     "text": [
      "(7664, 1092)\n"
     ]
    }
   ],
   "source": [
    "print(predictions.shape)"
   ]
  },
  {
   "cell_type": "code",
   "execution_count": 89,
   "id": "99d016ae-7d23-4a62-ad66-d0b7547222b7",
   "metadata": {
    "colab": {
     "base_uri": "https://localhost:8080/"
    },
    "executionInfo": {
     "elapsed": 65,
     "status": "ok",
     "timestamp": 1727163316081,
     "user": {
      "displayName": "21DIT023 PRIYENBHAI ITALIYA",
      "userId": "12661479872595247542"
     },
     "user_tz": -330
    },
    "id": "99d016ae-7d23-4a62-ad66-d0b7547222b7",
    "outputId": "db0844b5-bd5a-4699-d157-b137aa2ec7a7"
   },
   "outputs": [
    {
     "name": "stdout",
     "output_type": "stream",
     "text": [
      "[[26  0  0 ...  0  0  0]\n",
      " [ 0  5  0 ...  0  0  0]\n",
      " [ 0  0  9 ...  0  0  0]\n",
      " ...\n",
      " [ 0  0  0 ... 12  0  0]\n",
      " [ 0  0  0 ...  0 13  0]\n",
      " [ 0  0  0 ...  0  0  9]]\n",
      "Accuracy: 0.9901\n",
      "F1 Score: 0.9903\n",
      "Precision: 0.9916\n",
      "Recall: 0.9901\n"
     ]
    }
   ],
   "source": [
    "from sklearn.metrics import confusion_matrix, accuracy_score, f1_score, precision_score, recall_score\n",
    "\n",
    "predicted_classes = tf.math.argmax(predictions, axis=1)\n",
    "# Convert tensor to numpy array\n",
    "predicted_classes = predicted_classes.numpy()\n",
    "\n",
    "# Calculate the confusion matrix\n",
    "cm = confusion_matrix(y_test, predicted_classes)\n",
    "print(cm)\n",
    "\n",
    "# Calculate accuracy\n",
    "accuracy = accuracy_score(y_test, predicted_classes)\n",
    "print(f\"Accuracy: {accuracy:.4f}\")\n",
    "\n",
    "# Calculate F1 score\n",
    "f1 = f1_score(y_test, predicted_classes, average='weighted')  # Use 'weighted' for multi-class\n",
    "print(f\"F1 Score: {f1:.4f}\")\n",
    "\n",
    "# Calculate precision\n",
    "precision = precision_score(y_test, predicted_classes, average='weighted')\n",
    "print(f\"Precision: {precision:.4f}\")\n",
    "\n",
    "# Calculate recall\n",
    "recall = recall_score(y_test, predicted_classes, average='weighted')\n",
    "print(f\"Recall: {recall:.4f}\")"
   ]
  },
  {
   "cell_type": "code",
   "execution_count": 92,
   "id": "qubrIVUF9jcx",
   "metadata": {
    "colab": {
     "base_uri": "https://localhost:8080/"
    },
    "executionInfo": {
     "elapsed": 15233,
     "status": "ok",
     "timestamp": 1727163765069,
     "user": {
      "displayName": "21DIT023 PRIYENBHAI ITALIYA",
      "userId": "12661479872595247542"
     },
     "user_tz": -330
    },
    "id": "qubrIVUF9jcx",
    "outputId": "29973ca6-9644-449f-846b-173bb5172d0f"
   },
   "outputs": [
    {
     "name": "stdout",
     "output_type": "stream",
     "text": [
      "WARNING:tensorflow:Skipping full serialization of TF-Keras layer <tf_keras.src.layers.regularization.dropout.Dropout object at 0x79ae641f0620>, because it is not built.\n",
      "WARNING:tensorflow:Skipping full serialization of TF-Keras layer <tf_keras.src.layers.regularization.dropout.Dropout object at 0x79aed5c2d2b0>, because it is not built.\n",
      "WARNING:tensorflow:Skipping full serialization of TF-Keras layer <tf_keras.src.layers.regularization.dropout.Dropout object at 0x79aed5cbe030>, because it is not built.\n",
      "WARNING:tensorflow:Skipping full serialization of TF-Keras layer <tf_keras.src.layers.regularization.dropout.Dropout object at 0x79ae644a7a40>, because it is not built.\n",
      "WARNING:tensorflow:Skipping full serialization of TF-Keras layer <tf_keras.src.layers.regularization.dropout.Dropout object at 0x79aed5ad96a0>, because it is not built.\n",
      "WARNING:tensorflow:Skipping full serialization of TF-Keras layer <tf_keras.src.layers.regularization.dropout.Dropout object at 0x79ae645ee480>, because it is not built.\n",
      "INFO:tensorflow:Assets written to: /home/coeai/Downloads/piyo/sympomt2Dieses/assets\n"
     ]
    },
    {
     "name": "stderr",
     "output_type": "stream",
     "text": [
      "INFO:tensorflow:Assets written to: /home/coeai/Downloads/piyo/sympomt2Dieses/assets\n"
     ]
    }
   ],
   "source": [
    "model.save('/home/coeai/Downloads/piyo/sympomt2Dieses',save_format='tf')"
   ]
  }
 ],
 "metadata": {
  "colab": {
   "provenance": []
  },
  "kernelspec": {
   "display_name": "Python 3 (ipykernel)",
   "language": "python",
   "name": "python3"
  },
  "language_info": {
   "codemirror_mode": {
    "name": "ipython",
    "version": 3
   },
   "file_extension": ".py",
   "mimetype": "text/x-python",
   "name": "python",
   "nbconvert_exporter": "python",
   "pygments_lexer": "ipython3",
   "version": "3.12.4"
  }
 },
 "nbformat": 4,
 "nbformat_minor": 5
}
